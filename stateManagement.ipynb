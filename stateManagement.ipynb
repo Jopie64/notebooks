{
 "cells": [
  {
   "attachments": {},
   "cell_type": "markdown",
   "metadata": {},
   "source": [
    "## Assignment 1: Understanding the `map` operator\n",
    "\n",
    "In this assignment, you will use the `map` operator to transform an array of numbers.\n",
    "\n",
    "**Instructions:**\n",
    "1. Create an observable from the array [1, 2, 3, 4, 5].\n",
    "2. Use the `map` operator to square each number.\n",
    "3. Subscribe to the observable and print the transformed values.\n",
    "\n",
    "**Your task:**\n",
    "Implement the code for the instructions above in the code cell below."
   ]
  },
  {
   "cell_type": "code",
   "execution_count": 1,
   "metadata": {
    "vscode": {
     "languageId": "javascript"
    }
   },
   "outputs": [
    {
     "ename": "SyntaxError",
     "evalue": "invalid syntax (224103073.py, line 1)",
     "output_type": "error",
     "traceback": [
      "\u001b[1;36m  Cell \u001b[1;32mIn[1], line 1\u001b[1;36m\u001b[0m\n\u001b[1;33m    import { from } from 'rxjs';\u001b[0m\n\u001b[1;37m           ^\u001b[0m\n\u001b[1;31mSyntaxError\u001b[0m\u001b[1;31m:\u001b[0m invalid syntax\n"
     ]
    }
   ],
   "source": [
    "import { from } from 'rxjs';\n",
    "import { map } from 'rxjs/operators';\n",
    "\n",
    "const numbers = [1, 2, 3, 4, 5];\n",
    "const observable = from(numbers).pipe(\n",
    "    map(x => x ** 2)\n",
    ");\n",
    "\n",
    "// Subscribe and print the transformed values\n",
    "observable.subscribe(console.log);"
   ]
  }
 ],
 "metadata": {
  "kernelspec": {
   "display_name": "Python 3",
   "language": "python",
   "name": "python3"
  },
  "language_info": {
   "codemirror_mode": {
    "name": "ipython",
    "version": 3
   },
   "file_extension": ".py",
   "mimetype": "text/x-python",
   "name": "python",
   "nbconvert_exporter": "python",
   "pygments_lexer": "ipython3",
   "version": "3.9.7"
  },
  "orig_nbformat": 4
 },
 "nbformat": 4,
 "nbformat_minor": 2
}
